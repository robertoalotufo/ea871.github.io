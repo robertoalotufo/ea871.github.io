{
  "nbformat": 4,
  "nbformat_minor": 0,
  "metadata": {
    "colab": {
      "name": "IA025A_2022S1.ipynb",
      "provenance": [],
      "authorship_tag": "ABX9TyMoE0ZQrrgh4eioR80CMdRV",
      "include_colab_link": true
    },
    "kernelspec": {
      "name": "python3",
      "display_name": "Python 3"
    },
    "language_info": {
      "name": "python"
    }
  },
  "cells": [
    {
      "cell_type": "markdown",
      "metadata": {
        "id": "view-in-github",
        "colab_type": "text"
      },
      "source": [
        "<a href=\"https://colab.research.google.com/github/robertoalotufo/EA871-2015/blob/master/IA025A_2022S1.ipynb\" target=\"_parent\"><img src=\"https://colab.research.google.com/assets/colab-badge.svg\" alt=\"Open In Colab\"/></a>"
      ]
    },
    {
      "cell_type": "markdown",
      "source": [
        "# IA 025 Turma A - 1o. semestre de 2022\n",
        "\n",
        "Uso do Colab e Github\n",
        "\n",
        "O Google Colab tem uma ótima integração com o Github de modo que é possível guardarmos os notebooks Colab feitos durante o curso no Github. Iremos utilizar o repositório:\n",
        "\n",
        "robertolotufo/rnap/Python\n",
        "- unicamp-dl/ia025_2022S1 - Guardar respostas e material específico deste curso\n",
        "- [robertoalotufo/rnap](https://colab.research.google.com/github/robertoalotufo/rnap/blob/master/PyTorch/0_index.ipynb) - Material de cursos passados"
      ],
      "metadata": {
        "id": "e1yLf3HRywCF"
      }
    },
    {
      "cell_type": "code",
      "execution_count": null,
      "metadata": {
        "id": "No9AKFwUYwah"
      },
      "outputs": [],
      "source": [
        ""
      ]
    }
  ]
}